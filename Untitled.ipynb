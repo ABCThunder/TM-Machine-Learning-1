{
 "cells": [
  {
   "cell_type": "code",
   "execution_count": null,
   "metadata": {},
   "outputs": [],
   "source": [
    "print(\"Hello World\")"
   ]
  },
  {
   "cell_type": "markdown",
   "metadata": {},
   "source": [
    "# Input data from .csv file into a DataFrame"
   ]
  },
  {
   "cell_type": "code",
   "execution_count": null,
   "metadata": {
    "scrolled": true
   },
   "outputs": [],
   "source": [
    "import pandas as pd\n",
    "\n",
    "listing = pd.read_csv(\"listings.csv\",delimiter=',')\n",
    "\n",
    "print(listing)"
   ]
  },
  {
   "cell_type": "markdown",
   "metadata": {},
   "source": [
    "# Getting a single row or column from a DataFrame"
   ]
  },
  {
   "cell_type": "code",
   "execution_count": null,
   "metadata": {},
   "outputs": [],
   "source": [
    "x=''\n",
    "\n",
    "print('Calling 1st row (index 0) as Series and DataFrame\\n- Series')\n",
    "\n",
    "x = listing.iloc[0]\n",
    "\n",
    "print(x)\n",
    "print(type(x))\n",
    "\n",
    "print('\\n- DataFrame')\n",
    "\n",
    "# x = listing[1] <- this doesn't work\n",
    "x = listing[0:1]\n",
    "\n",
    "print(x)\n",
    "print(type(x))\n",
    "\n",
    "print('\\n Calling id column as Series and DataFrame\\n- Series')\n",
    "\n",
    "x = listing['id']\n",
    "\n",
    "print(x)\n",
    "print(type(x))\n",
    "\n",
    "print('\\n- DataFrame')\n",
    "\n",
    "x = listing[['id']]\n",
    "\n",
    "print(x)\n",
    "print(type(x))"
   ]
  },
  {
   "cell_type": "markdown",
   "metadata": {},
   "source": [
    "# Getting observations (rows) with empty values"
   ]
  },
  {
   "cell_type": "code",
   "execution_count": null,
   "metadata": {
    "scrolled": false
   },
   "outputs": [],
   "source": [
    "#represented with first 50 rows to save time\n",
    "\n",
    "smallListing = listing.head(50)\n",
    "\n",
    "#Iterative \n",
    "smallListingNaN = pd.DataFrame({},columns=smallListing.columns)   # set empty dataFrame with same columns as main dataFrame\n",
    "\n",
    "for x in smallListing.index:    # [0,1,2,3,4,...,n]\n",
    "    if(smallListing[x:x+1].isna().values.any()==True):\n",
    "        smallListingNaN = smallListingNaN.append(smallListing[x:x+1],ignore_index=False)\n",
    "        \n",
    "print(smallListingNaN,end='\\n\\n\\n\\n\\n\\n\\n\\n\\n\\n')\n",
    "\n",
    "#\n",
    "smallListingNaN = smallListing[smallListing.isna().any(axis=1)]\n",
    "\n",
    "print(smallListingNaN)"
   ]
  },
  {
   "cell_type": "code",
   "execution_count": null,
   "metadata": {},
   "outputs": [],
   "source": [
    "# Basically the same, but searching the whole data (listing)\n",
    "\n",
    "tempTable = listing[listing.isna().any(axis=1)]\n",
    "\n",
    "print(tempTable)"
   ]
  },
  {
   "cell_type": "markdown",
   "metadata": {},
   "source": [
    "# Getting the row with maximum & minimum data of a certain column"
   ]
  },
  {
   "cell_type": "code",
   "execution_count": null,
   "metadata": {},
   "outputs": [],
   "source": [
    "# Pretend we're searching for BnB with maximum or minimum price\n",
    "\n",
    "chosenColumn = 'price'\n",
    "\n",
    "# Max Table\n",
    "print('BnB WITH MAX PRICE')\n",
    "\n",
    "maxPrice = listing.loc[listing[chosenColumn] == listing[chosenColumn].max()]\n",
    "\n",
    "print(maxPrice,end='\\n\\n\\n\\n\\n\\n\\n\\n\\n')\n",
    "\n",
    "# Min Table\n",
    "print('BnB WITH MIN PRICE')\n",
    "minPrice = listing.loc[listing[chosenColumn] == listing[chosenColumn].min()]\n",
    "\n",
    "print(minPrice)"
   ]
  },
  {
   "cell_type": "markdown",
   "metadata": {},
   "source": [
    "# Removing rows with NaN values"
   ]
  },
  {
   "cell_type": "code",
   "execution_count": null,
   "metadata": {},
   "outputs": [],
   "source": [
    "noMoreNaN = listing.dropna()\n",
    "\n",
    "print('new DataFrame after removing rows with NaN values:')\n",
    "print(noMoreNaN,end='\\n\\n\\n\\n\\n')\n",
    "\n",
    "print('Is there still any NaN values here?',noMoreNaN.isna().values.any())\n",
    "\n",
    "print('Rows deleted:',len(listing)-len(noMoreNaN))"
   ]
  },
  {
   "cell_type": "markdown",
   "metadata": {},
   "source": [
    "# Replacing NaN values "
   ]
  },
  {
   "cell_type": "code",
   "execution_count": null,
   "metadata": {
    "scrolled": true
   },
   "outputs": [],
   "source": [
    "NaNReplacement = 1337\n",
    "\n",
    "filledNaN = listing.fillna(NaNReplacement)\n",
    "\n",
    "print(filledNaN)"
   ]
  },
  {
   "cell_type": "markdown",
   "metadata": {},
   "source": [
    "# Replacing NaN values with data from first row (requested by EternalGod)"
   ]
  },
  {
   "cell_type": "code",
   "execution_count": null,
   "metadata": {},
   "outputs": [],
   "source": [
    "ReplaceWithFirstRow = listing\n",
    "\n",
    "for x in ReplaceWithFirstRow.columns:\n",
    "    ReplaceWithFirstRow[x]=ReplaceWithFirstRow[x].fillna(ReplaceWithFirstRow[x][0])\n",
    "\n",
    "    \n",
    "ReplaceWithFirstRow"
   ]
  }
 ],
 "metadata": {
  "kernelspec": {
   "display_name": "Python 3",
   "language": "python",
   "name": "python3"
  },
  "language_info": {
   "codemirror_mode": {
    "name": "ipython",
    "version": 3
   },
   "file_extension": ".py",
   "mimetype": "text/x-python",
   "name": "python",
   "nbconvert_exporter": "python",
   "pygments_lexer": "ipython3",
   "version": "3.7.4"
  }
 },
 "nbformat": 4,
 "nbformat_minor": 2
}
